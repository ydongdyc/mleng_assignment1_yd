{
 "cells": [
  {
   "cell_type": "markdown",
   "id": "75eba9f4-52e7-410b-a594-ee5aab62ced9",
   "metadata": {},
   "source": [
    "Build a model to convert embeddings to a sentiment"
   ]
  },
  {
   "cell_type": "code",
   "execution_count": 11,
   "id": "2668dfb4-efde-42ee-a842-4ba99821d1ea",
   "metadata": {},
   "outputs": [],
   "source": [
    "#!pip install -U scikit-learn\n",
    "#!pip install pandas"
   ]
  },
  {
   "cell_type": "code",
   "execution_count": 1,
   "id": "932a67cb-a14c-4656-9083-d6b6f184f125",
   "metadata": {},
   "outputs": [
    {
     "name": "stdout",
     "output_type": "stream",
     "text": [
      "WARNING:tensorflow:From C:\\Users\\yanch\\anaconda3\\Lib\\site-packages\\tf_keras\\src\\losses.py:2976: The name tf.losses.sparse_softmax_cross_entropy is deprecated. Please use tf.compat.v1.losses.sparse_softmax_cross_entropy instead.\n",
      "\n"
     ]
    }
   ],
   "source": [
    "import io\n",
    "import numpy as np\n",
    "import pandas as pd\n",
    "from sentence_transformers import SentenceTransformer"
   ]
  },
  {
   "cell_type": "markdown",
   "id": "f5b4d8b1-5786-4ae2-be46-4aa462e3d74e",
   "metadata": {},
   "source": [
    "Obtain a training data set"
   ]
  },
  {
   "cell_type": "markdown",
   "id": "b798dec1-ae68-48e1-8948-508acb2d2ad7",
   "metadata": {},
   "source": [
    "ChatGPT: \"\"\"\n",
    "Please generate 100 headlines from a newspaper and assign it a label: optimistic, pessimistic, neutral. Please present the data in csv format.\n",
    "\"\"\"\n",
    "\n",
    "Result:"
   ]
  },
  {
   "cell_type": "markdown",
   "id": "e8d1cfb6-38a7-4aaa-b3a2-34ac4fd4b978",
   "metadata": {},
   "source": [
    "```csv\n",
    "Headline,Label\n",
    "\"Breakthrough in Cancer Treatment Shows Promising Results\",Optimistic\n",
    "\"Global Poverty Rates Hit Historic Lows\",Optimistic\n",
    "\"Scientists Announce Discovery of a Clean Energy Source\",Optimistic\n",
    "\"Local Community Raises $1 Million for Children’s Hospital\",Optimistic\n",
    "\"Job Growth Surges Across the Nation\",Optimistic\n",
    "\"Endangered Species Makes Historic Comeback\",Optimistic\n",
    "\"High School Students Win International Robotics Competition\",Optimistic\n",
    "\"Solar Energy Now Cheaper Than Fossil Fuels\",Optimistic\n",
    "\"New Vaccine Reduces Risk of Malaria by 90%\",Optimistic\n",
    "\"Neighborhood Garden Initiative Feeds Hundreds Weekly\",Optimistic\n",
    "\"International Peace Talks Yield Promising Agreement\",Optimistic\n",
    "\"Startup Revolutionizes Water Purification in Remote Areas\",Optimistic\n",
    "\"School Literacy Rates Improve by 20% in Five Years\",Optimistic\n",
    "\"City Park Redevelopment Wins Environmental Award\",Optimistic\n",
    "\"Volunteers Plant 1 Million Trees Across the Region\",Optimistic\n",
    "\"Electric Car Sales Outpace Gasoline Models for the First Time\",Optimistic\n",
    "\"AI Predicts Earthquakes with High Accuracy, Saves Lives\",Optimistic\n",
    "\"First Successful Mission to Remove Space Debris Completed\",Optimistic\n",
    "\"Renewable Energy Jobs Outnumber Fossil Fuel Jobs for First Time\",Optimistic\n",
    "\"College Tuition Costs Decrease Across Multiple States\",Optimistic\n",
    "\"Scientists Report Ozone Layer Healing Faster Than Expected\",Optimistic\n",
    "\"New Law Protects Ocean Ecosystems from Overfishing\",Optimistic\n",
    "\"Teen Creates App to Help the Elderly with Daily Tasks\",Optimistic\n",
    "\"Global Literacy Rates Reach All-Time High\",Optimistic\n",
    "\"Affordable Housing Initiative Gains Momentum in Urban Areas\",Optimistic\n",
    "\"Wildfires Destroy Thousands of Acres, Displacing Communities\",Pessimistic\n",
    "\"Unemployment Rates Surge Amid Economic Uncertainty\",Pessimistic\n",
    "\"Endangered Species Declared Extinct Due to Habitat Loss\",Pessimistic\n",
    "\"Crime Rates in Major Cities Reach Decade High\",Pessimistic\n",
    "\"Polar Ice Caps Melting at Alarming Rates, Report Finds\",Pessimistic\n",
    "\"Government Announces Cuts to Education Funding\",Pessimistic\n",
    "\"Rising Inflation Worsens Cost of Living Crisis\",Pessimistic\n",
    "\"Prolonged Drought Threatens Crops in Agricultural Regions\",Pessimistic\n",
    "\"Cyberattack Exposes Data of Millions of Users\",Pessimistic\n",
    "\"Public Health Officials Warn of New Viral Outbreak\",Pessimistic\n",
    "\"Major Oil Spill Devastates Marine Life Along Coast\",Pessimistic\n",
    "\"Political Tensions Escalate Between Neighboring Countries\",Pessimistic\n",
    "\"Scientists Warn of Impending Global Water Shortage\",Pessimistic\n",
    "\"Mass Layoffs Announced by Leading Tech Companies\",Pessimistic\n",
    "\"Hurricane Leaves Thousands Without Power and Homes\",Pessimistic\n",
    "\"Ocean Temperatures Hit Record Highs, Threatening Ecosystems\",Pessimistic\n",
    "\"Famine Spreads in War-Torn Region, Millions at Risk\",Pessimistic\n",
    "\"Protests Erupt Nationwide Over Economic Inequality\",Pessimistic\n",
    "\"New Study Shows Decline in Global Biodiversity\",Pessimistic\n",
    "\"Healthcare System Overwhelmed as Demand Surges\",Pessimistic\n",
    "\"City Struggles to Recover After Devastating Earthquake\",Pessimistic\n",
    "\"Corruption Scandal Rocks National Government\",Pessimistic\n",
    "\"Air Pollution in Urban Areas Hits Dangerous Levels\",Pessimistic\n",
    "\"Flooding Displaces Thousands After Heavy Rainfall\",Pessimistic\n",
    "\"Space Agency Delays Mission Due to Technical Issues\",Neutral\n",
    "\"New CEO Appointed at Fortune 500 Company\",Neutral\n",
    "\"City Council Debates Controversial Zoning Proposal\",Neutral\n",
    "\"Quarterly Economic Report Shows Mixed Results\",Neutral\n",
    "\"Research Team Publishes Findings on Climate Change Trends\",Neutral\n",
    "\"Experts Discuss the Future of Autonomous Vehicles\",Neutral\n",
    "\"State Introduces Pilot Program for Electric Buses\",Neutral\n",
    "\"Local University Launches New Data Science Program\",Neutral\n",
    "\"Annual Report Highlights Industry Growth and Challenges\",Neutral\n",
    "\"Retail Sales Slightly Higher Than Last Quarter\",Neutral\n",
    "\"Neighborhood Farmers Market Returns After Winter Break\",Neutral\n",
    "\"City Implements New Parking Rules Starting Next Month\",Neutral\n",
    "\"Study Shows Changes in Consumer Spending Habits\",Neutral\n",
    "\"Tech Conference Attracts Innovators From Around the World\",Neutral\n",
    "\"New Policy Requires Improved Safety Standards in Factories\",Neutral\n",
    "\"City Expands Bike Lanes, Receives Mixed Reactions\",Neutral\n",
    "\"Energy Company Announces Plans for Offshore Wind Farms\",Neutral\n",
    "\"Traffic Congestion Expected Due to Road Repairs\",Neutral\n",
    "\"Weather Forecast Predicts Mild Summer Ahead\",Neutral\n",
    "\"Tourist Numbers Steady in Historic Downtown Area\",Neutral\n",
    "\"Country’s Currency Value Stabilizes After Recent Drop\",Neutral\n",
    "\"Local Business Owner Opens Second Restaurant\",Neutral\n",
    "\"Public Transit Authority Introduces New Fare Options\",Neutral\n",
    "\"Government to Announce Budget Next Week\",Neutral\n",
    "\"Experts Call for More Research Into Renewable Energy\",Neutral\n",
    "\"Construction Delayed on New High-Speed Rail Project\",Neutral\n",
    "\"New Art Exhibit Opens at City Museum\",Neutral\n",
    "\"Education Department Rolls Out Standardized Test Updates\",Neutral\n",
    "\"Festival Draws Thousands Despite Rainy Weather\",Neutral\n",
    "\"Tech Startups See Growth Amid Global Challenges\",Neutral\n",
    "\n",
    "```"
   ]
  },
  {
   "cell_type": "code",
   "execution_count": 2,
   "id": "e19bbb45-18e6-4d80-9c8c-c47cf4c3b1ac",
   "metadata": {},
   "outputs": [],
   "source": [
    "generated_training_data = \"\"\"\n",
    "Headline,Label\n",
    "\"Breakthrough in Cancer Treatment Shows Promising Results\",Optimistic\n",
    "\"Global Poverty Rates Hit Historic Lows\",Optimistic\n",
    "\"Scientists Announce Discovery of a Clean Energy Source\",Optimistic\n",
    "\"Local Community Raises $1 Million for Children’s Hospital\",Optimistic\n",
    "\"Job Growth Surges Across the Nation\",Optimistic\n",
    "\"Endangered Species Makes Historic Comeback\",Optimistic\n",
    "\"High School Students Win International Robotics Competition\",Optimistic\n",
    "\"Solar Energy Now Cheaper Than Fossil Fuels\",Optimistic\n",
    "\"New Vaccine Reduces Risk of Malaria by 90%\",Optimistic\n",
    "\"Neighborhood Garden Initiative Feeds Hundreds Weekly\",Optimistic\n",
    "\"International Peace Talks Yield Promising Agreement\",Optimistic\n",
    "\"Startup Revolutionizes Water Purification in Remote Areas\",Optimistic\n",
    "\"School Literacy Rates Improve by 20% in Five Years\",Optimistic\n",
    "\"City Park Redevelopment Wins Environmental Award\",Optimistic\n",
    "\"Volunteers Plant 1 Million Trees Across the Region\",Optimistic\n",
    "\"Electric Car Sales Outpace Gasoline Models for the First Time\",Optimistic\n",
    "\"AI Predicts Earthquakes with High Accuracy, Saves Lives\",Optimistic\n",
    "\"First Successful Mission to Remove Space Debris Completed\",Optimistic\n",
    "\"Renewable Energy Jobs Outnumber Fossil Fuel Jobs for First Time\",Optimistic\n",
    "\"College Tuition Costs Decrease Across Multiple States\",Optimistic\n",
    "\"Scientists Report Ozone Layer Healing Faster Than Expected\",Optimistic\n",
    "\"New Law Protects Ocean Ecosystems from Overfishing\",Optimistic\n",
    "\"Teen Creates App to Help the Elderly with Daily Tasks\",Optimistic\n",
    "\"Global Literacy Rates Reach All-Time High\",Optimistic\n",
    "\"Affordable Housing Initiative Gains Momentum in Urban Areas\",Optimistic\n",
    "\"Wildfires Destroy Thousands of Acres, Displacing Communities\",Pessimistic\n",
    "\"Unemployment Rates Surge Amid Economic Uncertainty\",Pessimistic\n",
    "\"Endangered Species Declared Extinct Due to Habitat Loss\",Pessimistic\n",
    "\"Crime Rates in Major Cities Reach Decade High\",Pessimistic\n",
    "\"Polar Ice Caps Melting at Alarming Rates, Report Finds\",Pessimistic\n",
    "\"Government Announces Cuts to Education Funding\",Pessimistic\n",
    "\"Rising Inflation Worsens Cost of Living Crisis\",Pessimistic\n",
    "\"Prolonged Drought Threatens Crops in Agricultural Regions\",Pessimistic\n",
    "\"Cyberattack Exposes Data of Millions of Users\",Pessimistic\n",
    "\"Public Health Officials Warn of New Viral Outbreak\",Pessimistic\n",
    "\"Major Oil Spill Devastates Marine Life Along Coast\",Pessimistic\n",
    "\"Political Tensions Escalate Between Neighboring Countries\",Pessimistic\n",
    "\"Scientists Warn of Impending Global Water Shortage\",Pessimistic\n",
    "\"Mass Layoffs Announced by Leading Tech Companies\",Pessimistic\n",
    "\"Hurricane Leaves Thousands Without Power and Homes\",Pessimistic\n",
    "\"Ocean Temperatures Hit Record Highs, Threatening Ecosystems\",Pessimistic\n",
    "\"Famine Spreads in War-Torn Region, Millions at Risk\",Pessimistic\n",
    "\"Protests Erupt Nationwide Over Economic Inequality\",Pessimistic\n",
    "\"New Study Shows Decline in Global Biodiversity\",Pessimistic\n",
    "\"Healthcare System Overwhelmed as Demand Surges\",Pessimistic\n",
    "\"City Struggles to Recover After Devastating Earthquake\",Pessimistic\n",
    "\"Corruption Scandal Rocks National Government\",Pessimistic\n",
    "\"Air Pollution in Urban Areas Hits Dangerous Levels\",Pessimistic\n",
    "\"Flooding Displaces Thousands After Heavy Rainfall\",Pessimistic\n",
    "\"Space Agency Delays Mission Due to Technical Issues\",Neutral\n",
    "\"New CEO Appointed at Fortune 500 Company\",Neutral\n",
    "\"City Council Debates Controversial Zoning Proposal\",Neutral\n",
    "\"Quarterly Economic Report Shows Mixed Results\",Neutral\n",
    "\"Research Team Publishes Findings on Climate Change Trends\",Neutral\n",
    "\"Experts Discuss the Future of Autonomous Vehicles\",Neutral\n",
    "\"State Introduces Pilot Program for Electric Buses\",Neutral\n",
    "\"Local University Launches New Data Science Program\",Neutral\n",
    "\"Annual Report Highlights Industry Growth and Challenges\",Neutral\n",
    "\"Retail Sales Slightly Higher Than Last Quarter\",Neutral\n",
    "\"Neighborhood Farmers Market Returns After Winter Break\",Neutral\n",
    "\"City Implements New Parking Rules Starting Next Month\",Neutral\n",
    "\"Study Shows Changes in Consumer Spending Habits\",Neutral\n",
    "\"Tech Conference Attracts Innovators From Around the World\",Neutral\n",
    "\"New Policy Requires Improved Safety Standards in Factories\",Neutral\n",
    "\"City Expands Bike Lanes, Receives Mixed Reactions\",Neutral\n",
    "\"Energy Company Announces Plans for Offshore Wind Farms\",Neutral\n",
    "\"Traffic Congestion Expected Due to Road Repairs\",Neutral\n",
    "\"Weather Forecast Predicts Mild Summer Ahead\",Neutral\n",
    "\"Tourist Numbers Steady in Historic Downtown Area\",Neutral\n",
    "\"Country’s Currency Value Stabilizes After Recent Drop\",Neutral\n",
    "\"Local Business Owner Opens Second Restaurant\",Neutral\n",
    "\"Public Transit Authority Introduces New Fare Options\",Neutral\n",
    "\"Government to Announce Budget Next Week\",Neutral\n",
    "\"Experts Call for More Research Into Renewable Energy\",Neutral\n",
    "\"Construction Delayed on New High-Speed Rail Project\",Neutral\n",
    "\"New Art Exhibit Opens at City Museum\",Neutral\n",
    "\"Education Department Rolls Out Standardized Test Updates\",Neutral\n",
    "\"Festival Draws Thousands Despite Rainy Weather\",Neutral\n",
    "\"Tech Startups See Growth Amid Global Challenges\",Neutral\n",
    "\"\"\""
   ]
  },
  {
   "cell_type": "code",
   "execution_count": 3,
   "id": "2de66384-7ba1-4324-a2c4-920e8f970e90",
   "metadata": {},
   "outputs": [
    {
     "data": {
      "text/html": [
       "<div>\n",
       "<style scoped>\n",
       "    .dataframe tbody tr th:only-of-type {\n",
       "        vertical-align: middle;\n",
       "    }\n",
       "\n",
       "    .dataframe tbody tr th {\n",
       "        vertical-align: top;\n",
       "    }\n",
       "\n",
       "    .dataframe thead th {\n",
       "        text-align: right;\n",
       "    }\n",
       "</style>\n",
       "<table border=\"1\" class=\"dataframe\">\n",
       "  <thead>\n",
       "    <tr style=\"text-align: right;\">\n",
       "      <th></th>\n",
       "      <th>Headline</th>\n",
       "      <th>Label</th>\n",
       "    </tr>\n",
       "  </thead>\n",
       "  <tbody>\n",
       "    <tr>\n",
       "      <th>0</th>\n",
       "      <td>Breakthrough in Cancer Treatment Shows Promisi...</td>\n",
       "      <td>Optimistic</td>\n",
       "    </tr>\n",
       "    <tr>\n",
       "      <th>1</th>\n",
       "      <td>Global Poverty Rates Hit Historic Lows</td>\n",
       "      <td>Optimistic</td>\n",
       "    </tr>\n",
       "    <tr>\n",
       "      <th>2</th>\n",
       "      <td>Scientists Announce Discovery of a Clean Energ...</td>\n",
       "      <td>Optimistic</td>\n",
       "    </tr>\n",
       "    <tr>\n",
       "      <th>3</th>\n",
       "      <td>Local Community Raises $1 Million for Children...</td>\n",
       "      <td>Optimistic</td>\n",
       "    </tr>\n",
       "    <tr>\n",
       "      <th>4</th>\n",
       "      <td>Job Growth Surges Across the Nation</td>\n",
       "      <td>Optimistic</td>\n",
       "    </tr>\n",
       "  </tbody>\n",
       "</table>\n",
       "</div>"
      ],
      "text/plain": [
       "                                            Headline       Label\n",
       "0  Breakthrough in Cancer Treatment Shows Promisi...  Optimistic\n",
       "1             Global Poverty Rates Hit Historic Lows  Optimistic\n",
       "2  Scientists Announce Discovery of a Clean Energ...  Optimistic\n",
       "3  Local Community Raises $1 Million for Children...  Optimistic\n",
       "4                Job Growth Surges Across the Nation  Optimistic"
      ]
     },
     "execution_count": 3,
     "metadata": {},
     "output_type": "execute_result"
    }
   ],
   "source": [
    "training_data_df = pd.read_csv(io.StringIO(generated_training_data))\n",
    "training_data_df.head()"
   ]
  },
  {
   "cell_type": "code",
   "execution_count": 4,
   "id": "c7b1ae49-d0e2-4dee-b63e-330b8ee12e3b",
   "metadata": {},
   "outputs": [
    {
     "data": {
      "text/html": [
       "<div>\n",
       "<style scoped>\n",
       "    .dataframe tbody tr th:only-of-type {\n",
       "        vertical-align: middle;\n",
       "    }\n",
       "\n",
       "    .dataframe tbody tr th {\n",
       "        vertical-align: top;\n",
       "    }\n",
       "\n",
       "    .dataframe thead th {\n",
       "        text-align: right;\n",
       "    }\n",
       "</style>\n",
       "<table border=\"1\" class=\"dataframe\">\n",
       "  <thead>\n",
       "    <tr style=\"text-align: right;\">\n",
       "      <th></th>\n",
       "      <th>Headline</th>\n",
       "      <th>Label</th>\n",
       "    </tr>\n",
       "  </thead>\n",
       "  <tbody>\n",
       "    <tr>\n",
       "      <th>56</th>\n",
       "      <td>Local University Launches New Data Science Pro...</td>\n",
       "      <td>Neutral</td>\n",
       "    </tr>\n",
       "    <tr>\n",
       "      <th>1</th>\n",
       "      <td>Global Poverty Rates Hit Historic Lows</td>\n",
       "      <td>Optimistic</td>\n",
       "    </tr>\n",
       "    <tr>\n",
       "      <th>58</th>\n",
       "      <td>Retail Sales Slightly Higher Than Last Quarter</td>\n",
       "      <td>Neutral</td>\n",
       "    </tr>\n",
       "    <tr>\n",
       "      <th>25</th>\n",
       "      <td>Wildfires Destroy Thousands of Acres, Displaci...</td>\n",
       "      <td>Pessimistic</td>\n",
       "    </tr>\n",
       "    <tr>\n",
       "      <th>39</th>\n",
       "      <td>Hurricane Leaves Thousands Without Power and H...</td>\n",
       "      <td>Pessimistic</td>\n",
       "    </tr>\n",
       "  </tbody>\n",
       "</table>\n",
       "</div>"
      ],
      "text/plain": [
       "                                             Headline        Label\n",
       "56  Local University Launches New Data Science Pro...      Neutral\n",
       "1              Global Poverty Rates Hit Historic Lows   Optimistic\n",
       "58     Retail Sales Slightly Higher Than Last Quarter      Neutral\n",
       "25  Wildfires Destroy Thousands of Acres, Displaci...  Pessimistic\n",
       "39  Hurricane Leaves Thousands Without Power and H...  Pessimistic"
      ]
     },
     "execution_count": 4,
     "metadata": {},
     "output_type": "execute_result"
    }
   ],
   "source": [
    "training_data_df = training_data_df.sample(frac=1)\n",
    "training_data_df.head()"
   ]
  },
  {
   "cell_type": "markdown",
   "id": "12073c51-6a82-44de-b958-a8f775cc53b3",
   "metadata": {},
   "source": [
    "score"
   ]
  },
  {
   "cell_type": "code",
   "execution_count": 5,
   "id": "d35a471d-3055-423b-bf46-fac2a680bcbf",
   "metadata": {},
   "outputs": [
    {
     "data": {
      "application/vnd.jupyter.widget-view+json": {
       "model_id": "bbd1964b81bc4a659fe331d5200e313e",
       "version_major": 2,
       "version_minor": 0
      },
      "text/plain": [
       "modules.json:   0%|          | 0.00/349 [00:00<?, ?B/s]"
      ]
     },
     "metadata": {},
     "output_type": "display_data"
    },
    {
     "name": "stderr",
     "output_type": "stream",
     "text": [
      "C:\\Users\\yanch\\anaconda3\\Lib\\site-packages\\huggingface_hub\\file_download.py:147: UserWarning: `huggingface_hub` cache-system uses symlinks by default to efficiently store duplicated files but your machine does not support them in C:\\Users\\yanch\\.cache\\huggingface\\hub\\models--sentence-transformers--all-MiniLM-L6-v2. Caching files will still work but in a degraded version that might require more space on your disk. This warning can be disabled by setting the `HF_HUB_DISABLE_SYMLINKS_WARNING` environment variable. For more details, see https://huggingface.co/docs/huggingface_hub/how-to-cache#limitations.\n",
      "To support symlinks on Windows, you either need to activate Developer Mode or to run Python as an administrator. In order to activate developer mode, see this article: https://docs.microsoft.com/en-us/windows/apps/get-started/enable-your-device-for-development\n",
      "  warnings.warn(message)\n"
     ]
    },
    {
     "data": {
      "application/vnd.jupyter.widget-view+json": {
       "model_id": "18b7059038b9400ead2614357afa910a",
       "version_major": 2,
       "version_minor": 0
      },
      "text/plain": [
       "config_sentence_transformers.json:   0%|          | 0.00/116 [00:00<?, ?B/s]"
      ]
     },
     "metadata": {},
     "output_type": "display_data"
    },
    {
     "data": {
      "application/vnd.jupyter.widget-view+json": {
       "model_id": "6a546c4f322f492f84cee6178e765cc4",
       "version_major": 2,
       "version_minor": 0
      },
      "text/plain": [
       "README.md:   0%|          | 0.00/10.5k [00:00<?, ?B/s]"
      ]
     },
     "metadata": {},
     "output_type": "display_data"
    },
    {
     "data": {
      "application/vnd.jupyter.widget-view+json": {
       "model_id": "7c785ada8d614b7eb46e847e508ddcd0",
       "version_major": 2,
       "version_minor": 0
      },
      "text/plain": [
       "sentence_bert_config.json:   0%|          | 0.00/53.0 [00:00<?, ?B/s]"
      ]
     },
     "metadata": {},
     "output_type": "display_data"
    },
    {
     "data": {
      "application/vnd.jupyter.widget-view+json": {
       "model_id": "6b4bbac2e38e4912a5e3f616a4bbe5fe",
       "version_major": 2,
       "version_minor": 0
      },
      "text/plain": [
       "config.json:   0%|          | 0.00/612 [00:00<?, ?B/s]"
      ]
     },
     "metadata": {},
     "output_type": "display_data"
    },
    {
     "data": {
      "application/vnd.jupyter.widget-view+json": {
       "model_id": "2bad35d35bba4f549442c52043ec3979",
       "version_major": 2,
       "version_minor": 0
      },
      "text/plain": [
       "model.safetensors:   0%|          | 0.00/90.9M [00:00<?, ?B/s]"
      ]
     },
     "metadata": {},
     "output_type": "display_data"
    },
    {
     "data": {
      "application/vnd.jupyter.widget-view+json": {
       "model_id": "3484ee1c8cdf45e7a66ef2a84c739da9",
       "version_major": 2,
       "version_minor": 0
      },
      "text/plain": [
       "tokenizer_config.json:   0%|          | 0.00/350 [00:00<?, ?B/s]"
      ]
     },
     "metadata": {},
     "output_type": "display_data"
    },
    {
     "data": {
      "application/vnd.jupyter.widget-view+json": {
       "model_id": "139ed5b8a4174453b4cb98bd4a64d1a8",
       "version_major": 2,
       "version_minor": 0
      },
      "text/plain": [
       "vocab.txt:   0%|          | 0.00/232k [00:00<?, ?B/s]"
      ]
     },
     "metadata": {},
     "output_type": "display_data"
    },
    {
     "data": {
      "application/vnd.jupyter.widget-view+json": {
       "model_id": "b04bfc5f19d64162966b51b99bce4db4",
       "version_major": 2,
       "version_minor": 0
      },
      "text/plain": [
       "tokenizer.json:   0%|          | 0.00/466k [00:00<?, ?B/s]"
      ]
     },
     "metadata": {},
     "output_type": "display_data"
    },
    {
     "data": {
      "application/vnd.jupyter.widget-view+json": {
       "model_id": "12e3576650c340ffbfcab5f78a6db5bc",
       "version_major": 2,
       "version_minor": 0
      },
      "text/plain": [
       "special_tokens_map.json:   0%|          | 0.00/112 [00:00<?, ?B/s]"
      ]
     },
     "metadata": {},
     "output_type": "display_data"
    },
    {
     "data": {
      "application/vnd.jupyter.widget-view+json": {
       "model_id": "c7fe37c3bd6d4bebba05b459d354108c",
       "version_major": 2,
       "version_minor": 0
      },
      "text/plain": [
       "config.json:   0%|          | 0.00/190 [00:00<?, ?B/s]"
      ]
     },
     "metadata": {},
     "output_type": "display_data"
    }
   ],
   "source": [
    "model = SentenceTransformer(\"all-MiniLM-L6-v2\")"
   ]
  },
  {
   "cell_type": "code",
   "execution_count": 6,
   "id": "9c32481b-1636-42e6-8c54-260b3cd02dc0",
   "metadata": {},
   "outputs": [
    {
     "name": "stdout",
     "output_type": "stream",
     "text": [
      "CPU times: total: 188 ms\n",
      "Wall time: 521 ms\n"
     ]
    }
   ],
   "source": [
    "%%time\n",
    "embeddings = model.encode(training_data_df.Headline)"
   ]
  },
  {
   "cell_type": "code",
   "execution_count": 30,
   "id": "71fd7076-c21a-4bc9-ba7d-d01ffecfafb6",
   "metadata": {},
   "outputs": [],
   "source": [
    "#embeddings = np.load('headlines_chicagotribune_2024-12-01.npy')"
   ]
  },
  {
   "cell_type": "code",
   "execution_count": 31,
   "id": "eca8e472-3d05-4e80-98c6-12cdfe119920",
   "metadata": {},
   "outputs": [],
   "source": [
    "#embeddings.shape"
   ]
  },
  {
   "cell_type": "code",
   "execution_count": 32,
   "id": "68d06173-06d9-4b56-a1c3-7b3c234cc075",
   "metadata": {},
   "outputs": [],
   "source": [
    "#embeddings[0].shape"
   ]
  },
  {
   "cell_type": "code",
   "execution_count": 33,
   "id": "edc746fc-2561-4f6a-9dac-d96b93cde600",
   "metadata": {},
   "outputs": [],
   "source": [
    "# we don't need these embeddings, we just need the test dataset we creat to train the model :)"
   ]
  },
  {
   "cell_type": "code",
   "execution_count": 7,
   "id": "9665294e-12c3-4cd5-9659-32bea037d9e0",
   "metadata": {},
   "outputs": [],
   "source": [
    "from sklearn.model_selection import train_test_split"
   ]
  },
  {
   "cell_type": "code",
   "execution_count": 8,
   "id": "dabc6bfc-0c94-479a-9c8e-f052c254af9e",
   "metadata": {},
   "outputs": [],
   "source": [
    "X_train, X_test, y_train, y_test = train_test_split(embeddings, training_data_df.Label, test_size=0.2) "
   ]
  },
  {
   "cell_type": "code",
   "execution_count": 9,
   "id": "3a2ab68d-8268-4e9e-a16e-84a2371dd652",
   "metadata": {},
   "outputs": [
    {
     "data": {
      "text/plain": [
       "((63, 384), (16, 384), (63,), (16,))"
      ]
     },
     "execution_count": 9,
     "metadata": {},
     "output_type": "execute_result"
    }
   ],
   "source": [
    "X_train.shape, X_test.shape, y_train.shape, y_test.shape"
   ]
  },
  {
   "cell_type": "code",
   "execution_count": null,
   "id": "a50e8f5e-33ff-4b63-ae19-0e56793406eb",
   "metadata": {},
   "outputs": [],
   "source": []
  },
  {
   "cell_type": "code",
   "execution_count": 10,
   "id": "39b74a49-71a9-4b42-9fb4-641cbf85d1bb",
   "metadata": {},
   "outputs": [],
   "source": [
    "from sklearn import svm\n",
    "from sklearn import metrics"
   ]
  },
  {
   "cell_type": "code",
   "execution_count": 11,
   "id": "7f0ed92d-bde5-4451-9f58-b9a5c2be5e90",
   "metadata": {},
   "outputs": [],
   "source": [
    "clf = svm.SVC(kernel='linear') # Linear Kernel"
   ]
  },
  {
   "cell_type": "code",
   "execution_count": 12,
   "id": "6a10ef12-87c7-47d2-b88b-cc5f3f7ba98e",
   "metadata": {},
   "outputs": [
    {
     "name": "stdout",
     "output_type": "stream",
     "text": [
      "CPU times: total: 0 ns\n",
      "Wall time: 16.6 ms\n"
     ]
    },
    {
     "data": {
      "text/html": [
       "<style>#sk-container-id-1 {\n",
       "  /* Definition of color scheme common for light and dark mode */\n",
       "  --sklearn-color-text: #000;\n",
       "  --sklearn-color-text-muted: #666;\n",
       "  --sklearn-color-line: gray;\n",
       "  /* Definition of color scheme for unfitted estimators */\n",
       "  --sklearn-color-unfitted-level-0: #fff5e6;\n",
       "  --sklearn-color-unfitted-level-1: #f6e4d2;\n",
       "  --sklearn-color-unfitted-level-2: #ffe0b3;\n",
       "  --sklearn-color-unfitted-level-3: chocolate;\n",
       "  /* Definition of color scheme for fitted estimators */\n",
       "  --sklearn-color-fitted-level-0: #f0f8ff;\n",
       "  --sklearn-color-fitted-level-1: #d4ebff;\n",
       "  --sklearn-color-fitted-level-2: #b3dbfd;\n",
       "  --sklearn-color-fitted-level-3: cornflowerblue;\n",
       "\n",
       "  /* Specific color for light theme */\n",
       "  --sklearn-color-text-on-default-background: var(--sg-text-color, var(--theme-code-foreground, var(--jp-content-font-color1, black)));\n",
       "  --sklearn-color-background: var(--sg-background-color, var(--theme-background, var(--jp-layout-color0, white)));\n",
       "  --sklearn-color-border-box: var(--sg-text-color, var(--theme-code-foreground, var(--jp-content-font-color1, black)));\n",
       "  --sklearn-color-icon: #696969;\n",
       "\n",
       "  @media (prefers-color-scheme: dark) {\n",
       "    /* Redefinition of color scheme for dark theme */\n",
       "    --sklearn-color-text-on-default-background: var(--sg-text-color, var(--theme-code-foreground, var(--jp-content-font-color1, white)));\n",
       "    --sklearn-color-background: var(--sg-background-color, var(--theme-background, var(--jp-layout-color0, #111)));\n",
       "    --sklearn-color-border-box: var(--sg-text-color, var(--theme-code-foreground, var(--jp-content-font-color1, white)));\n",
       "    --sklearn-color-icon: #878787;\n",
       "  }\n",
       "}\n",
       "\n",
       "#sk-container-id-1 {\n",
       "  color: var(--sklearn-color-text);\n",
       "}\n",
       "\n",
       "#sk-container-id-1 pre {\n",
       "  padding: 0;\n",
       "}\n",
       "\n",
       "#sk-container-id-1 input.sk-hidden--visually {\n",
       "  border: 0;\n",
       "  clip: rect(1px 1px 1px 1px);\n",
       "  clip: rect(1px, 1px, 1px, 1px);\n",
       "  height: 1px;\n",
       "  margin: -1px;\n",
       "  overflow: hidden;\n",
       "  padding: 0;\n",
       "  position: absolute;\n",
       "  width: 1px;\n",
       "}\n",
       "\n",
       "#sk-container-id-1 div.sk-dashed-wrapped {\n",
       "  border: 1px dashed var(--sklearn-color-line);\n",
       "  margin: 0 0.4em 0.5em 0.4em;\n",
       "  box-sizing: border-box;\n",
       "  padding-bottom: 0.4em;\n",
       "  background-color: var(--sklearn-color-background);\n",
       "}\n",
       "\n",
       "#sk-container-id-1 div.sk-container {\n",
       "  /* jupyter's `normalize.less` sets `[hidden] { display: none; }`\n",
       "     but bootstrap.min.css set `[hidden] { display: none !important; }`\n",
       "     so we also need the `!important` here to be able to override the\n",
       "     default hidden behavior on the sphinx rendered scikit-learn.org.\n",
       "     See: https://github.com/scikit-learn/scikit-learn/issues/21755 */\n",
       "  display: inline-block !important;\n",
       "  position: relative;\n",
       "}\n",
       "\n",
       "#sk-container-id-1 div.sk-text-repr-fallback {\n",
       "  display: none;\n",
       "}\n",
       "\n",
       "div.sk-parallel-item,\n",
       "div.sk-serial,\n",
       "div.sk-item {\n",
       "  /* draw centered vertical line to link estimators */\n",
       "  background-image: linear-gradient(var(--sklearn-color-text-on-default-background), var(--sklearn-color-text-on-default-background));\n",
       "  background-size: 2px 100%;\n",
       "  background-repeat: no-repeat;\n",
       "  background-position: center center;\n",
       "}\n",
       "\n",
       "/* Parallel-specific style estimator block */\n",
       "\n",
       "#sk-container-id-1 div.sk-parallel-item::after {\n",
       "  content: \"\";\n",
       "  width: 100%;\n",
       "  border-bottom: 2px solid var(--sklearn-color-text-on-default-background);\n",
       "  flex-grow: 1;\n",
       "}\n",
       "\n",
       "#sk-container-id-1 div.sk-parallel {\n",
       "  display: flex;\n",
       "  align-items: stretch;\n",
       "  justify-content: center;\n",
       "  background-color: var(--sklearn-color-background);\n",
       "  position: relative;\n",
       "}\n",
       "\n",
       "#sk-container-id-1 div.sk-parallel-item {\n",
       "  display: flex;\n",
       "  flex-direction: column;\n",
       "}\n",
       "\n",
       "#sk-container-id-1 div.sk-parallel-item:first-child::after {\n",
       "  align-self: flex-end;\n",
       "  width: 50%;\n",
       "}\n",
       "\n",
       "#sk-container-id-1 div.sk-parallel-item:last-child::after {\n",
       "  align-self: flex-start;\n",
       "  width: 50%;\n",
       "}\n",
       "\n",
       "#sk-container-id-1 div.sk-parallel-item:only-child::after {\n",
       "  width: 0;\n",
       "}\n",
       "\n",
       "/* Serial-specific style estimator block */\n",
       "\n",
       "#sk-container-id-1 div.sk-serial {\n",
       "  display: flex;\n",
       "  flex-direction: column;\n",
       "  align-items: center;\n",
       "  background-color: var(--sklearn-color-background);\n",
       "  padding-right: 1em;\n",
       "  padding-left: 1em;\n",
       "}\n",
       "\n",
       "\n",
       "/* Toggleable style: style used for estimator/Pipeline/ColumnTransformer box that is\n",
       "clickable and can be expanded/collapsed.\n",
       "- Pipeline and ColumnTransformer use this feature and define the default style\n",
       "- Estimators will overwrite some part of the style using the `sk-estimator` class\n",
       "*/\n",
       "\n",
       "/* Pipeline and ColumnTransformer style (default) */\n",
       "\n",
       "#sk-container-id-1 div.sk-toggleable {\n",
       "  /* Default theme specific background. It is overwritten whether we have a\n",
       "  specific estimator or a Pipeline/ColumnTransformer */\n",
       "  background-color: var(--sklearn-color-background);\n",
       "}\n",
       "\n",
       "/* Toggleable label */\n",
       "#sk-container-id-1 label.sk-toggleable__label {\n",
       "  cursor: pointer;\n",
       "  display: flex;\n",
       "  width: 100%;\n",
       "  margin-bottom: 0;\n",
       "  padding: 0.5em;\n",
       "  box-sizing: border-box;\n",
       "  text-align: center;\n",
       "  align-items: start;\n",
       "  justify-content: space-between;\n",
       "  gap: 0.5em;\n",
       "}\n",
       "\n",
       "#sk-container-id-1 label.sk-toggleable__label .caption {\n",
       "  font-size: 0.6rem;\n",
       "  font-weight: lighter;\n",
       "  color: var(--sklearn-color-text-muted);\n",
       "}\n",
       "\n",
       "#sk-container-id-1 label.sk-toggleable__label-arrow:before {\n",
       "  /* Arrow on the left of the label */\n",
       "  content: \"▸\";\n",
       "  float: left;\n",
       "  margin-right: 0.25em;\n",
       "  color: var(--sklearn-color-icon);\n",
       "}\n",
       "\n",
       "#sk-container-id-1 label.sk-toggleable__label-arrow:hover:before {\n",
       "  color: var(--sklearn-color-text);\n",
       "}\n",
       "\n",
       "/* Toggleable content - dropdown */\n",
       "\n",
       "#sk-container-id-1 div.sk-toggleable__content {\n",
       "  max-height: 0;\n",
       "  max-width: 0;\n",
       "  overflow: hidden;\n",
       "  text-align: left;\n",
       "  /* unfitted */\n",
       "  background-color: var(--sklearn-color-unfitted-level-0);\n",
       "}\n",
       "\n",
       "#sk-container-id-1 div.sk-toggleable__content.fitted {\n",
       "  /* fitted */\n",
       "  background-color: var(--sklearn-color-fitted-level-0);\n",
       "}\n",
       "\n",
       "#sk-container-id-1 div.sk-toggleable__content pre {\n",
       "  margin: 0.2em;\n",
       "  border-radius: 0.25em;\n",
       "  color: var(--sklearn-color-text);\n",
       "  /* unfitted */\n",
       "  background-color: var(--sklearn-color-unfitted-level-0);\n",
       "}\n",
       "\n",
       "#sk-container-id-1 div.sk-toggleable__content.fitted pre {\n",
       "  /* unfitted */\n",
       "  background-color: var(--sklearn-color-fitted-level-0);\n",
       "}\n",
       "\n",
       "#sk-container-id-1 input.sk-toggleable__control:checked~div.sk-toggleable__content {\n",
       "  /* Expand drop-down */\n",
       "  max-height: 200px;\n",
       "  max-width: 100%;\n",
       "  overflow: auto;\n",
       "}\n",
       "\n",
       "#sk-container-id-1 input.sk-toggleable__control:checked~label.sk-toggleable__label-arrow:before {\n",
       "  content: \"▾\";\n",
       "}\n",
       "\n",
       "/* Pipeline/ColumnTransformer-specific style */\n",
       "\n",
       "#sk-container-id-1 div.sk-label input.sk-toggleable__control:checked~label.sk-toggleable__label {\n",
       "  color: var(--sklearn-color-text);\n",
       "  background-color: var(--sklearn-color-unfitted-level-2);\n",
       "}\n",
       "\n",
       "#sk-container-id-1 div.sk-label.fitted input.sk-toggleable__control:checked~label.sk-toggleable__label {\n",
       "  background-color: var(--sklearn-color-fitted-level-2);\n",
       "}\n",
       "\n",
       "/* Estimator-specific style */\n",
       "\n",
       "/* Colorize estimator box */\n",
       "#sk-container-id-1 div.sk-estimator input.sk-toggleable__control:checked~label.sk-toggleable__label {\n",
       "  /* unfitted */\n",
       "  background-color: var(--sklearn-color-unfitted-level-2);\n",
       "}\n",
       "\n",
       "#sk-container-id-1 div.sk-estimator.fitted input.sk-toggleable__control:checked~label.sk-toggleable__label {\n",
       "  /* fitted */\n",
       "  background-color: var(--sklearn-color-fitted-level-2);\n",
       "}\n",
       "\n",
       "#sk-container-id-1 div.sk-label label.sk-toggleable__label,\n",
       "#sk-container-id-1 div.sk-label label {\n",
       "  /* The background is the default theme color */\n",
       "  color: var(--sklearn-color-text-on-default-background);\n",
       "}\n",
       "\n",
       "/* On hover, darken the color of the background */\n",
       "#sk-container-id-1 div.sk-label:hover label.sk-toggleable__label {\n",
       "  color: var(--sklearn-color-text);\n",
       "  background-color: var(--sklearn-color-unfitted-level-2);\n",
       "}\n",
       "\n",
       "/* Label box, darken color on hover, fitted */\n",
       "#sk-container-id-1 div.sk-label.fitted:hover label.sk-toggleable__label.fitted {\n",
       "  color: var(--sklearn-color-text);\n",
       "  background-color: var(--sklearn-color-fitted-level-2);\n",
       "}\n",
       "\n",
       "/* Estimator label */\n",
       "\n",
       "#sk-container-id-1 div.sk-label label {\n",
       "  font-family: monospace;\n",
       "  font-weight: bold;\n",
       "  display: inline-block;\n",
       "  line-height: 1.2em;\n",
       "}\n",
       "\n",
       "#sk-container-id-1 div.sk-label-container {\n",
       "  text-align: center;\n",
       "}\n",
       "\n",
       "/* Estimator-specific */\n",
       "#sk-container-id-1 div.sk-estimator {\n",
       "  font-family: monospace;\n",
       "  border: 1px dotted var(--sklearn-color-border-box);\n",
       "  border-radius: 0.25em;\n",
       "  box-sizing: border-box;\n",
       "  margin-bottom: 0.5em;\n",
       "  /* unfitted */\n",
       "  background-color: var(--sklearn-color-unfitted-level-0);\n",
       "}\n",
       "\n",
       "#sk-container-id-1 div.sk-estimator.fitted {\n",
       "  /* fitted */\n",
       "  background-color: var(--sklearn-color-fitted-level-0);\n",
       "}\n",
       "\n",
       "/* on hover */\n",
       "#sk-container-id-1 div.sk-estimator:hover {\n",
       "  /* unfitted */\n",
       "  background-color: var(--sklearn-color-unfitted-level-2);\n",
       "}\n",
       "\n",
       "#sk-container-id-1 div.sk-estimator.fitted:hover {\n",
       "  /* fitted */\n",
       "  background-color: var(--sklearn-color-fitted-level-2);\n",
       "}\n",
       "\n",
       "/* Specification for estimator info (e.g. \"i\" and \"?\") */\n",
       "\n",
       "/* Common style for \"i\" and \"?\" */\n",
       "\n",
       ".sk-estimator-doc-link,\n",
       "a:link.sk-estimator-doc-link,\n",
       "a:visited.sk-estimator-doc-link {\n",
       "  float: right;\n",
       "  font-size: smaller;\n",
       "  line-height: 1em;\n",
       "  font-family: monospace;\n",
       "  background-color: var(--sklearn-color-background);\n",
       "  border-radius: 1em;\n",
       "  height: 1em;\n",
       "  width: 1em;\n",
       "  text-decoration: none !important;\n",
       "  margin-left: 0.5em;\n",
       "  text-align: center;\n",
       "  /* unfitted */\n",
       "  border: var(--sklearn-color-unfitted-level-1) 1pt solid;\n",
       "  color: var(--sklearn-color-unfitted-level-1);\n",
       "}\n",
       "\n",
       ".sk-estimator-doc-link.fitted,\n",
       "a:link.sk-estimator-doc-link.fitted,\n",
       "a:visited.sk-estimator-doc-link.fitted {\n",
       "  /* fitted */\n",
       "  border: var(--sklearn-color-fitted-level-1) 1pt solid;\n",
       "  color: var(--sklearn-color-fitted-level-1);\n",
       "}\n",
       "\n",
       "/* On hover */\n",
       "div.sk-estimator:hover .sk-estimator-doc-link:hover,\n",
       ".sk-estimator-doc-link:hover,\n",
       "div.sk-label-container:hover .sk-estimator-doc-link:hover,\n",
       ".sk-estimator-doc-link:hover {\n",
       "  /* unfitted */\n",
       "  background-color: var(--sklearn-color-unfitted-level-3);\n",
       "  color: var(--sklearn-color-background);\n",
       "  text-decoration: none;\n",
       "}\n",
       "\n",
       "div.sk-estimator.fitted:hover .sk-estimator-doc-link.fitted:hover,\n",
       ".sk-estimator-doc-link.fitted:hover,\n",
       "div.sk-label-container:hover .sk-estimator-doc-link.fitted:hover,\n",
       ".sk-estimator-doc-link.fitted:hover {\n",
       "  /* fitted */\n",
       "  background-color: var(--sklearn-color-fitted-level-3);\n",
       "  color: var(--sklearn-color-background);\n",
       "  text-decoration: none;\n",
       "}\n",
       "\n",
       "/* Span, style for the box shown on hovering the info icon */\n",
       ".sk-estimator-doc-link span {\n",
       "  display: none;\n",
       "  z-index: 9999;\n",
       "  position: relative;\n",
       "  font-weight: normal;\n",
       "  right: .2ex;\n",
       "  padding: .5ex;\n",
       "  margin: .5ex;\n",
       "  width: min-content;\n",
       "  min-width: 20ex;\n",
       "  max-width: 50ex;\n",
       "  color: var(--sklearn-color-text);\n",
       "  box-shadow: 2pt 2pt 4pt #999;\n",
       "  /* unfitted */\n",
       "  background: var(--sklearn-color-unfitted-level-0);\n",
       "  border: .5pt solid var(--sklearn-color-unfitted-level-3);\n",
       "}\n",
       "\n",
       ".sk-estimator-doc-link.fitted span {\n",
       "  /* fitted */\n",
       "  background: var(--sklearn-color-fitted-level-0);\n",
       "  border: var(--sklearn-color-fitted-level-3);\n",
       "}\n",
       "\n",
       ".sk-estimator-doc-link:hover span {\n",
       "  display: block;\n",
       "}\n",
       "\n",
       "/* \"?\"-specific style due to the `<a>` HTML tag */\n",
       "\n",
       "#sk-container-id-1 a.estimator_doc_link {\n",
       "  float: right;\n",
       "  font-size: 1rem;\n",
       "  line-height: 1em;\n",
       "  font-family: monospace;\n",
       "  background-color: var(--sklearn-color-background);\n",
       "  border-radius: 1rem;\n",
       "  height: 1rem;\n",
       "  width: 1rem;\n",
       "  text-decoration: none;\n",
       "  /* unfitted */\n",
       "  color: var(--sklearn-color-unfitted-level-1);\n",
       "  border: var(--sklearn-color-unfitted-level-1) 1pt solid;\n",
       "}\n",
       "\n",
       "#sk-container-id-1 a.estimator_doc_link.fitted {\n",
       "  /* fitted */\n",
       "  border: var(--sklearn-color-fitted-level-1) 1pt solid;\n",
       "  color: var(--sklearn-color-fitted-level-1);\n",
       "}\n",
       "\n",
       "/* On hover */\n",
       "#sk-container-id-1 a.estimator_doc_link:hover {\n",
       "  /* unfitted */\n",
       "  background-color: var(--sklearn-color-unfitted-level-3);\n",
       "  color: var(--sklearn-color-background);\n",
       "  text-decoration: none;\n",
       "}\n",
       "\n",
       "#sk-container-id-1 a.estimator_doc_link.fitted:hover {\n",
       "  /* fitted */\n",
       "  background-color: var(--sklearn-color-fitted-level-3);\n",
       "}\n",
       "</style><div id=\"sk-container-id-1\" class=\"sk-top-container\"><div class=\"sk-text-repr-fallback\"><pre>SVC(kernel=&#x27;linear&#x27;)</pre><b>In a Jupyter environment, please rerun this cell to show the HTML representation or trust the notebook. <br />On GitHub, the HTML representation is unable to render, please try loading this page with nbviewer.org.</b></div><div class=\"sk-container\" hidden><div class=\"sk-item\"><div class=\"sk-estimator fitted sk-toggleable\"><input class=\"sk-toggleable__control sk-hidden--visually\" id=\"sk-estimator-id-1\" type=\"checkbox\" checked><label for=\"sk-estimator-id-1\" class=\"sk-toggleable__label fitted sk-toggleable__label-arrow\"><div><div>SVC</div></div><div><a class=\"sk-estimator-doc-link fitted\" rel=\"noreferrer\" target=\"_blank\" href=\"https://scikit-learn.org/1.6/modules/generated/sklearn.svm.SVC.html\">?<span>Documentation for SVC</span></a><span class=\"sk-estimator-doc-link fitted\">i<span>Fitted</span></span></div></label><div class=\"sk-toggleable__content fitted\"><pre>SVC(kernel=&#x27;linear&#x27;)</pre></div> </div></div></div></div>"
      ],
      "text/plain": [
       "SVC(kernel='linear')"
      ]
     },
     "execution_count": 12,
     "metadata": {},
     "output_type": "execute_result"
    }
   ],
   "source": [
    "%%time\n",
    "clf.fit(X_train, y_train)"
   ]
  },
  {
   "cell_type": "code",
   "execution_count": 13,
   "id": "28449375-cbb2-4011-aa4f-0361b0ce4e8c",
   "metadata": {},
   "outputs": [],
   "source": [
    "y_pred = clf.predict(X_test)"
   ]
  },
  {
   "cell_type": "code",
   "execution_count": 14,
   "id": "71283b41-57a8-4b6b-91b4-71e83d16440a",
   "metadata": {},
   "outputs": [
    {
     "data": {
      "text/plain": [
       "0.375"
      ]
     },
     "execution_count": 14,
     "metadata": {},
     "output_type": "execute_result"
    }
   ],
   "source": [
    "metrics.accuracy_score(y_test, y_pred)"
   ]
  },
  {
   "cell_type": "code",
   "execution_count": 15,
   "id": "60466362-c0fd-48b2-90a6-2539ea50552d",
   "metadata": {},
   "outputs": [
    {
     "data": {
      "text/plain": [
       "0.25"
      ]
     },
     "execution_count": 15,
     "metadata": {},
     "output_type": "execute_result"
    }
   ],
   "source": [
    "metrics.precision_score(y_test, y_pred, average='weighted')"
   ]
  },
  {
   "cell_type": "code",
   "execution_count": 16,
   "id": "372c2a11-eefe-4bd7-a8f3-c704e14f4e55",
   "metadata": {},
   "outputs": [
    {
     "data": {
      "text/plain": [
       "0.375"
      ]
     },
     "execution_count": 16,
     "metadata": {},
     "output_type": "execute_result"
    }
   ],
   "source": [
    "metrics.recall_score(y_test, y_pred, average='weighted')"
   ]
  },
  {
   "cell_type": "code",
   "execution_count": 17,
   "id": "d7c94998-1907-4f35-be3e-f208627ebf73",
   "metadata": {},
   "outputs": [],
   "source": [
    "import joblib"
   ]
  },
  {
   "cell_type": "code",
   "execution_count": 18,
   "id": "b168a5fe-1b14-42ea-9e61-135c2befa05e",
   "metadata": {},
   "outputs": [
    {
     "data": {
      "text/plain": [
       "['svm.joblib']"
      ]
     },
     "execution_count": 18,
     "metadata": {},
     "output_type": "execute_result"
    }
   ],
   "source": [
    "joblib.dump(clf, 'svm.joblib')"
   ]
  },
  {
   "cell_type": "code",
   "execution_count": null,
   "id": "0ac2564f-4d62-4d77-9524-03e71515e5af",
   "metadata": {},
   "outputs": [],
   "source": []
  },
  {
   "cell_type": "code",
   "execution_count": null,
   "id": "9f5c4006-0d9b-4a20-974d-521e1d5dcfb8",
   "metadata": {},
   "outputs": [],
   "source": []
  },
  {
   "cell_type": "code",
   "execution_count": 19,
   "id": "e1dc966d-9964-46a6-8ad2-9dd746e33924",
   "metadata": {},
   "outputs": [
    {
     "name": "stdout",
     "output_type": "stream",
     "text": [
      "Breakthrough in solar panel efficiency announced --> Neutral\n",
      "Major layoffs reported in tech industry --> Neutral\n",
      "City implements new recycling program to reduce waste --> Neutral\n"
     ]
    }
   ],
   "source": [
    "from joblib import load\n",
    "from sentence_transformers import SentenceTransformer\n",
    "\n",
    "# Load pre-trained model and vectorizer\n",
    "svm_model = load('svm.joblib')  # path to your SVM model file\n",
    "embedding_model = SentenceTransformer('all-MiniLM-L6-v2')  # Or use the same model you trained with\n",
    "\n",
    "# Example headlines to test\n",
    "test_headlines = [\n",
    "    \"Breakthrough in solar panel efficiency announced\",\n",
    "    \"Major layoffs reported in tech industry\",\n",
    "    \"City implements new recycling program to reduce waste\"\n",
    "]\n",
    "\n",
    "# Convert headlines to embeddings\n",
    "X_test = embedding_model.encode(test_headlines)\n",
    "\n",
    "# Predict sentiment\n",
    "predictions = svm_model.predict(X_test)\n",
    "\n",
    "# Print results\n",
    "for headline, label in zip(test_headlines, predictions):\n",
    "    print(f\"{headline} --> {label}\")\n"
   ]
  },
  {
   "cell_type": "code",
   "execution_count": null,
   "id": "7cefe032-cbd6-45f7-96e3-dde5e6f63e23",
   "metadata": {},
   "outputs": [],
   "source": []
  }
 ],
 "metadata": {
  "kernelspec": {
   "display_name": "Python 3 (ipykernel)",
   "language": "python",
   "name": "python3"
  },
  "language_info": {
   "codemirror_mode": {
    "name": "ipython",
    "version": 3
   },
   "file_extension": ".py",
   "mimetype": "text/x-python",
   "name": "python",
   "nbconvert_exporter": "python",
   "pygments_lexer": "ipython3",
   "version": "3.12.4"
  }
 },
 "nbformat": 4,
 "nbformat_minor": 5
}
